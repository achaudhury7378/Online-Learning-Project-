{
  "nbformat": 4,
  "nbformat_minor": 0,
  "metadata": {
    "colab": {
      "name": "HyperBand MNIST.ipynb",
      "provenance": [],
      "include_colab_link": true
    },
    "kernelspec": {
      "name": "python3",
      "display_name": "Python 3"
    },
    "language_info": {
      "name": "python"
    },
    "accelerator": "GPU"
  },
  "cells": [
    {
      "cell_type": "markdown",
      "metadata": {
        "id": "view-in-github",
        "colab_type": "text"
      },
      "source": [
        "<a href=\"https://colab.research.google.com/github/achaudhury7378/Online-Learning-Project-/blob/main/HyperBand_MNIST.ipynb\" target=\"_parent\"><img src=\"https://colab.research.google.com/assets/colab-badge.svg\" alt=\"Open In Colab\"/></a>"
      ]
    },
    {
      "cell_type": "code",
      "metadata": {
        "id": "NZtwBB-MwtVF"
      },
      "source": [
        "!pip install tensorflow-gpu\n",
        "!pip install keras-tuner"
      ],
      "execution_count": null,
      "outputs": []
    },
    {
      "cell_type": "code",
      "metadata": {
        "id": "1tCUdfVSzM0h"
      },
      "source": [
        "import tensorflow as tf\n",
        "from tensorflow import keras\n",
        "from tensorflow.keras.datasets import mnist\n",
        "from tensorflow.keras.models import Sequential\n",
        "from tensorflow.keras.layers import Dense, Dropout, Flatten\n",
        "from tensorflow.keras.layers import Conv2D, MaxPooling2D\n",
        "from tensorflow.keras import backend as K\n",
        "from tensorflow.keras.optimizers import Adam\n",
        "from keras.losses import categorical_crossentropy\n",
        "\n",
        "from kerastuner.tuners import Hyperband"
      ],
      "execution_count": null,
      "outputs": []
    },
    {
      "cell_type": "code",
      "metadata": {
        "id": "PZst7uLozOu2"
      },
      "source": [
        "gpus= tf.config.experimental.list_physical_devices('GPU')\n",
        "tf.config.experimental.set_memory_growth(gpus[0], True)"
      ],
      "execution_count": null,
      "outputs": []
    },
    {
      "cell_type": "code",
      "metadata": {
        "colab": {
          "base_uri": "https://localhost:8080/"
        },
        "id": "W-n0Kk-nzP1g",
        "outputId": "0f7d697c-77ae-4deb-ca9e-09a2b964b441"
      },
      "source": [
        "num_classes = 10\n",
        "\n",
        "# the data, split between train and test sets\n",
        "(x_train, y_train), (x_test, y_test) = mnist.load_data()\n",
        "\n",
        "x_train = x_train.reshape(x_train.shape[0], 28, 28, 1)\n",
        "x_test = x_test.reshape(x_test.shape[0], 28, 28, 1)\n",
        "input_shape = (28, 28, 1)\n",
        "\n",
        "x_train = x_train.astype('float32')\n",
        "x_test = x_test.astype('float32')\n",
        "x_train /= 255\n",
        "x_test /= 255\n",
        "print('x_train shape:', x_train.shape)\n",
        "print(x_train.shape[0], 'train samples')\n",
        "print(x_test.shape[0], 'test samples')\n",
        "\n",
        "# convert class vectors to binary class matrices\n",
        "y_train = keras.utils.to_categorical(y_train, num_classes)\n",
        "y_test = keras.utils.to_categorical(y_test, num_classes)"
      ],
      "execution_count": null,
      "outputs": [
        {
          "output_type": "stream",
          "text": [
            "Downloading data from https://storage.googleapis.com/tensorflow/tf-keras-datasets/mnist.npz\n",
            "11493376/11490434 [==============================] - 0s 0us/step\n",
            "x_train shape: (60000, 28, 28, 1)\n",
            "60000 train samples\n",
            "10000 test samples\n"
          ],
          "name": "stdout"
        }
      ]
    },
    {
      "cell_type": "code",
      "metadata": {
        "colab": {
          "base_uri": "https://localhost:8080/"
        },
        "id": "qTXagCCJzS5d",
        "outputId": "74f7428a-fe38-4a5c-ee7b-00c7b94e0036"
      },
      "source": [
        "model = Sequential()\n",
        "model.add(Conv2D(32, kernel_size=(3, 3),\n",
        "                 activation='relu',\n",
        "                 input_shape=input_shape))\n",
        "model.add(Conv2D(64, (3, 3), activation='relu'))\n",
        "model.add(MaxPooling2D(pool_size=(2, 2)))\n",
        "model.add(Dropout(0.3))\n",
        "model.add(Flatten())\n",
        "model.add(Dense(128, activation='relu'))\n",
        "model.add(Dropout(0.5))\n",
        "model.add(Dense(num_classes, activation='softmax'))\n",
        "\n",
        "model.compile(loss='categorical_crossentropy',\n",
        "              optimizer=Adam(),\n",
        "              metrics=['accuracy'])\n",
        "\n",
        "batch_size = 128\n",
        "epochs = 12\n",
        "\n",
        "model.fit(x_train, y_train,\n",
        "          batch_size=batch_size,\n",
        "          epochs=epochs,\n",
        "          verbose=1,\n",
        "          validation_data=(x_test, y_test))\n",
        "score = model.evaluate(x_test, y_test, verbose=0)\n",
        "print('Test loss:', score[0])\n",
        "print('Test accuracy:', score[1])"
      ],
      "execution_count": null,
      "outputs": [
        {
          "output_type": "stream",
          "text": [
            "Epoch 1/12\n",
            "469/469 [==============================] - 8s 16ms/step - loss: 0.4707 - accuracy: 0.8499 - val_loss: 0.0516 - val_accuracy: 0.9843\n",
            "Epoch 2/12\n",
            "469/469 [==============================] - 7s 15ms/step - loss: 0.0904 - accuracy: 0.9739 - val_loss: 0.0364 - val_accuracy: 0.9879\n",
            "Epoch 3/12\n",
            "469/469 [==============================] - 7s 15ms/step - loss: 0.0639 - accuracy: 0.9807 - val_loss: 0.0297 - val_accuracy: 0.9892\n",
            "Epoch 4/12\n",
            "469/469 [==============================] - 7s 15ms/step - loss: 0.0528 - accuracy: 0.9838 - val_loss: 0.0320 - val_accuracy: 0.9896\n",
            "Epoch 5/12\n",
            "469/469 [==============================] - 7s 15ms/step - loss: 0.0427 - accuracy: 0.9868 - val_loss: 0.0277 - val_accuracy: 0.9912\n",
            "Epoch 6/12\n",
            "469/469 [==============================] - 7s 15ms/step - loss: 0.0378 - accuracy: 0.9882 - val_loss: 0.0309 - val_accuracy: 0.9895\n",
            "Epoch 7/12\n",
            "469/469 [==============================] - 7s 15ms/step - loss: 0.0342 - accuracy: 0.9891 - val_loss: 0.0301 - val_accuracy: 0.9909\n",
            "Epoch 8/12\n",
            "469/469 [==============================] - 7s 15ms/step - loss: 0.0303 - accuracy: 0.9901 - val_loss: 0.0265 - val_accuracy: 0.9918\n",
            "Epoch 9/12\n",
            "469/469 [==============================] - 7s 15ms/step - loss: 0.0269 - accuracy: 0.9911 - val_loss: 0.0262 - val_accuracy: 0.9925\n",
            "Epoch 10/12\n",
            "469/469 [==============================] - 7s 15ms/step - loss: 0.0265 - accuracy: 0.9911 - val_loss: 0.0273 - val_accuracy: 0.9927\n",
            "Epoch 11/12\n",
            "469/469 [==============================] - 7s 15ms/step - loss: 0.0231 - accuracy: 0.9930 - val_loss: 0.0262 - val_accuracy: 0.9928\n",
            "Epoch 12/12\n",
            "469/469 [==============================] - 7s 15ms/step - loss: 0.0200 - accuracy: 0.9935 - val_loss: 0.0284 - val_accuracy: 0.9914\n",
            "Test loss: 0.02838575653731823\n",
            "Test accuracy: 0.9914000034332275\n"
          ],
          "name": "stdout"
        }
      ]
    },
    {
      "cell_type": "code",
      "metadata": {
        "id": "3wG3s7akzYpe"
      },
      "source": [
        "def MNISTHyperModel(hp):\n",
        "    num_classes = 10\n",
        "    model = keras.Sequential()\n",
        "    \n",
        "    model.add(Conv2D(\n",
        "            filters=hp.Choice('num_filters_1', values=[16, 32, 64], default = 32),\n",
        "            kernel_size=hp.Choice('kernel_1', values=[2,3,4,5], default = 3),\n",
        "            strides = hp.Choice('stride_1', values=[1,2,3], default = 1),\n",
        "            activation = 'relu',\n",
        "            input_shape=(28,28,1)))\n",
        "    \n",
        "    model.add(Conv2D(\n",
        "            filters=hp.Choice('num_filters_2', values=[16, 32, 64], default = 32),\n",
        "            kernel_size=hp.Choice('kernel_2', values=[2,3,4,5], default = 3),\n",
        "            strides = hp.Choice('stride_2', values=[1,2,3], default = 1),\n",
        "            activation='relu'))\n",
        "    \n",
        "    model.add(MaxPooling2D(pool_size=2))\n",
        "    \n",
        "    model.add(Dropout(rate=hp.Float('dropout_1', min_value=0.0, max_value=0.5, default=0.3, step=0.1)))\n",
        "    \n",
        "    model.add(Flatten())\n",
        "    \n",
        "    model.add(Dense(\n",
        "            units=hp.Int('dense_units', min_value=32, max_value=512, step=32, default=128),\n",
        "            activation=hp.Choice('dense_activation', values=['relu', 'tanh', 'sigmoid'], default='relu')))\n",
        "    \n",
        "    model.add(Dropout(rate=hp.Float('dropout_2', min_value=0.0, max_value=0.5, default=0.5, step=0.1)))                   \n",
        "    model.add(Dense(num_classes, activation='softmax'))\n",
        "    \n",
        "    model.compile(\n",
        "        optimizer=Adam(\n",
        "            hp.Float('learning_rate', min_value=1e-4, max_value=1e-2, sampling='LOG', default=1e-3)),\n",
        "        loss='categorical_crossentropy',\n",
        "        metrics=['accuracy'])\n",
        "    return model"
      ],
      "execution_count": null,
      "outputs": []
    },
    {
      "cell_type": "code",
      "metadata": {
        "id": "hZ9W4D2PzZ28"
      },
      "source": [
        "tuner = Hyperband(\n",
        "    MNISTHyperModel,\n",
        "    max_epochs=12,\n",
        "    objective='val_accuracy',\n",
        "    executions_per_trial=3,\n",
        "    directory='hyperband',\n",
        "    project_name='MNIST_hyperband_2')"
      ],
      "execution_count": null,
      "outputs": []
    },
    {
      "cell_type": "code",
      "metadata": {
        "colab": {
          "base_uri": "https://localhost:8080/"
        },
        "id": "OlmJBEvOzbBU",
        "outputId": "eda31fc0-590a-436b-d2d7-60ee9c4fd8e5"
      },
      "source": [
        "tuner.search_space_summary()"
      ],
      "execution_count": null,
      "outputs": [
        {
          "output_type": "stream",
          "text": [
            "Search space summary\n",
            "Default search space size: 11\n",
            "num_filters_1 (Choice)\n",
            "{'default': 32, 'conditions': [], 'values': [16, 32, 64], 'ordered': True}\n",
            "kernel_1 (Choice)\n",
            "{'default': 3, 'conditions': [], 'values': [2, 3, 4, 5], 'ordered': True}\n",
            "stride_1 (Choice)\n",
            "{'default': 1, 'conditions': [], 'values': [1, 2, 3], 'ordered': True}\n",
            "num_filters_2 (Choice)\n",
            "{'default': 32, 'conditions': [], 'values': [16, 32, 64], 'ordered': True}\n",
            "kernel_2 (Choice)\n",
            "{'default': 3, 'conditions': [], 'values': [2, 3, 4, 5], 'ordered': True}\n",
            "stride_2 (Choice)\n",
            "{'default': 1, 'conditions': [], 'values': [1, 2, 3], 'ordered': True}\n",
            "dropout_1 (Float)\n",
            "{'default': 0.3, 'conditions': [], 'min_value': 0.0, 'max_value': 0.5, 'step': 0.1, 'sampling': None}\n",
            "dense_units (Int)\n",
            "{'default': 128, 'conditions': [], 'min_value': 32, 'max_value': 512, 'step': 32, 'sampling': None}\n",
            "dense_activation (Choice)\n",
            "{'default': 'relu', 'conditions': [], 'values': ['relu', 'tanh', 'sigmoid'], 'ordered': False}\n",
            "dropout_2 (Float)\n",
            "{'default': 0.5, 'conditions': [], 'min_value': 0.0, 'max_value': 0.5, 'step': 0.1, 'sampling': None}\n",
            "learning_rate (Float)\n",
            "{'default': 0.001, 'conditions': [], 'min_value': 0.0001, 'max_value': 0.01, 'step': None, 'sampling': 'log'}\n"
          ],
          "name": "stdout"
        }
      ]
    },
    {
      "cell_type": "code",
      "metadata": {
        "colab": {
          "base_uri": "https://localhost:8080/"
        },
        "id": "VhJ9YCz_zcMQ",
        "outputId": "3181e43e-6804-4edb-b75b-c20a67ac5037"
      },
      "source": [
        "tuner.search(x_train, y_train, validation_split=0.1)"
      ],
      "execution_count": null,
      "outputs": [
        {
          "output_type": "stream",
          "text": [
            "Trial 30 Complete [00h 06m 11s]\n",
            "val_accuracy: 0.9839999874432882\n",
            "\n",
            "Best val_accuracy So Far: 0.99272221326828\n",
            "Total elapsed time: 01h 06m 18s\n",
            "INFO:tensorflow:Oracle triggered exit\n"
          ],
          "name": "stdout"
        }
      ]
    },
    {
      "cell_type": "code",
      "metadata": {
        "colab": {
          "base_uri": "https://localhost:8080/"
        },
        "id": "G-uvj0RhzdE0",
        "outputId": "c52cd93b-2a92-4193-b005-b6dae68e1e2f"
      },
      "source": [
        "tuner.results_summary()"
      ],
      "execution_count": null,
      "outputs": [
        {
          "output_type": "stream",
          "text": [
            "Results summary\n",
            "Results in hyperband/MNIST_hyperband_2\n",
            "Showing 10 best trials\n",
            "Objective(name='val_accuracy', direction='max')\n",
            "Trial summary\n",
            "Hyperparameters:\n",
            "num_filters_1: 32\n",
            "kernel_1: 5\n",
            "stride_1: 1\n",
            "num_filters_2: 64\n",
            "kernel_2: 4\n",
            "stride_2: 1\n",
            "dropout_1: 0.1\n",
            "dense_units: 352\n",
            "dense_activation: relu\n",
            "dropout_2: 0.4\n",
            "learning_rate: 0.00014682754255180837\n",
            "tuner/epochs: 12\n",
            "tuner/initial_epoch: 4\n",
            "tuner/bracket: 2\n",
            "tuner/round: 2\n",
            "tuner/trial_id: 3cf4f267930e71e9c0e8402a52dc0441\n",
            "Score: 0.99272221326828\n",
            "Trial summary\n",
            "Hyperparameters:\n",
            "num_filters_1: 32\n",
            "kernel_1: 5\n",
            "stride_1: 3\n",
            "num_filters_2: 64\n",
            "kernel_2: 4\n",
            "stride_2: 1\n",
            "dropout_1: 0.30000000000000004\n",
            "dense_units: 160\n",
            "dense_activation: relu\n",
            "dropout_2: 0.30000000000000004\n",
            "learning_rate: 0.0009259685801345267\n",
            "tuner/epochs: 12\n",
            "tuner/initial_epoch: 0\n",
            "tuner/bracket: 0\n",
            "tuner/round: 0\n",
            "Score: 0.9915000001589457\n",
            "Trial summary\n",
            "Hyperparameters:\n",
            "num_filters_1: 32\n",
            "kernel_1: 3\n",
            "stride_1: 1\n",
            "num_filters_2: 16\n",
            "kernel_2: 3\n",
            "stride_2: 2\n",
            "dropout_1: 0.0\n",
            "dense_units: 384\n",
            "dense_activation: relu\n",
            "dropout_2: 0.2\n",
            "learning_rate: 0.00396838174496876\n",
            "tuner/epochs: 12\n",
            "tuner/initial_epoch: 4\n",
            "tuner/bracket: 1\n",
            "tuner/round: 1\n",
            "tuner/trial_id: d6a2fe08e56af1e8a2be47b08e066f61\n",
            "Score: 0.9893888831138611\n",
            "Trial summary\n",
            "Hyperparameters:\n",
            "num_filters_1: 32\n",
            "kernel_1: 3\n",
            "stride_1: 1\n",
            "num_filters_2: 32\n",
            "kernel_2: 3\n",
            "stride_2: 2\n",
            "dropout_1: 0.4\n",
            "dense_units: 352\n",
            "dense_activation: relu\n",
            "dropout_2: 0.1\n",
            "learning_rate: 0.005194294542042123\n",
            "tuner/epochs: 12\n",
            "tuner/initial_epoch: 4\n",
            "tuner/bracket: 1\n",
            "tuner/round: 1\n",
            "tuner/trial_id: 36c8856680041c2bfbb9e1cd02084e00\n",
            "Score: 0.9892777601877848\n",
            "Trial summary\n",
            "Hyperparameters:\n",
            "num_filters_1: 32\n",
            "kernel_1: 5\n",
            "stride_1: 1\n",
            "num_filters_2: 32\n",
            "kernel_2: 2\n",
            "stride_2: 2\n",
            "dropout_1: 0.0\n",
            "dense_units: 160\n",
            "dense_activation: relu\n",
            "dropout_2: 0.5\n",
            "learning_rate: 0.003908403370216533\n",
            "tuner/epochs: 12\n",
            "tuner/initial_epoch: 4\n",
            "tuner/bracket: 2\n",
            "tuner/round: 2\n",
            "tuner/trial_id: ba81f0e71f0d7b4769589f3735fd0778\n",
            "Score: 0.9890000025431315\n",
            "Trial summary\n",
            "Hyperparameters:\n",
            "num_filters_1: 32\n",
            "kernel_1: 3\n",
            "stride_1: 1\n",
            "num_filters_2: 32\n",
            "kernel_2: 3\n",
            "stride_2: 2\n",
            "dropout_1: 0.4\n",
            "dense_units: 352\n",
            "dense_activation: relu\n",
            "dropout_2: 0.1\n",
            "learning_rate: 0.005194294542042123\n",
            "tuner/epochs: 4\n",
            "tuner/initial_epoch: 0\n",
            "tuner/bracket: 1\n",
            "tuner/round: 0\n",
            "Score: 0.9882777730623881\n",
            "Trial summary\n",
            "Hyperparameters:\n",
            "num_filters_1: 32\n",
            "kernel_1: 5\n",
            "stride_1: 1\n",
            "num_filters_2: 64\n",
            "kernel_2: 4\n",
            "stride_2: 1\n",
            "dropout_1: 0.1\n",
            "dense_units: 352\n",
            "dense_activation: relu\n",
            "dropout_2: 0.4\n",
            "learning_rate: 0.00014682754255180837\n",
            "tuner/epochs: 4\n",
            "tuner/initial_epoch: 2\n",
            "tuner/bracket: 2\n",
            "tuner/round: 1\n",
            "tuner/trial_id: 58cd2815f420e7183b25da7e7a947e00\n",
            "Score: 0.9881666700045267\n",
            "Trial summary\n",
            "Hyperparameters:\n",
            "num_filters_1: 32\n",
            "kernel_1: 3\n",
            "stride_1: 1\n",
            "num_filters_2: 16\n",
            "kernel_2: 3\n",
            "stride_2: 2\n",
            "dropout_1: 0.0\n",
            "dense_units: 384\n",
            "dense_activation: relu\n",
            "dropout_2: 0.2\n",
            "learning_rate: 0.00396838174496876\n",
            "tuner/epochs: 4\n",
            "tuner/initial_epoch: 0\n",
            "tuner/bracket: 1\n",
            "tuner/round: 0\n",
            "Score: 0.9879444241523743\n",
            "Trial summary\n",
            "Hyperparameters:\n",
            "num_filters_1: 32\n",
            "kernel_1: 5\n",
            "stride_1: 1\n",
            "num_filters_2: 64\n",
            "kernel_2: 4\n",
            "stride_2: 1\n",
            "dropout_1: 0.1\n",
            "dense_units: 352\n",
            "dense_activation: relu\n",
            "dropout_2: 0.4\n",
            "learning_rate: 0.00014682754255180837\n",
            "tuner/epochs: 2\n",
            "tuner/initial_epoch: 0\n",
            "tuner/bracket: 2\n",
            "tuner/round: 0\n",
            "Score: 0.9877777894337972\n",
            "Trial summary\n",
            "Hyperparameters:\n",
            "num_filters_1: 32\n",
            "kernel_1: 5\n",
            "stride_1: 1\n",
            "num_filters_2: 32\n",
            "kernel_2: 2\n",
            "stride_2: 2\n",
            "dropout_1: 0.0\n",
            "dense_units: 160\n",
            "dense_activation: relu\n",
            "dropout_2: 0.5\n",
            "learning_rate: 0.003908403370216533\n",
            "tuner/epochs: 2\n",
            "tuner/initial_epoch: 0\n",
            "tuner/bracket: 2\n",
            "tuner/round: 0\n",
            "Score: 0.9868333339691162\n"
          ],
          "name": "stdout"
        }
      ]
    },
    {
      "cell_type": "code",
      "metadata": {
        "colab": {
          "base_uri": "https://localhost:8080/"
        },
        "id": "3q8epNPLzeWB",
        "outputId": "769b106c-81af-4d5b-dc13-d24bab2c90b7"
      },
      "source": [
        "best_model = tuner.get_best_models(num_models=1)[0]\n",
        "loss, accuracy = best_model.evaluate(x_test, y_test)\n",
        "print(accuracy)"
      ],
      "execution_count": null,
      "outputs": [
        {
          "output_type": "stream",
          "text": [
            "313/313 [==============================] - 2s 4ms/step - loss: 0.0255 - accuracy: 0.9899\n",
            "0.9927999973297119\n"
          ],
          "name": "stdout"
        }
      ]
    },
    {
      "cell_type": "code",
      "metadata": {
        "colab": {
          "base_uri": "https://localhost:8080/"
        },
        "id": "7bU_g10kzfvF",
        "outputId": "36772aab-2326-4195-c93d-dbb5a57bceed"
      },
      "source": [
        "best_model.summary()"
      ],
      "execution_count": null,
      "outputs": [
        {
          "output_type": "stream",
          "text": [
            "Model: \"sequential\"\n",
            "_________________________________________________________________\n",
            "Layer (type)                 Output Shape              Param #   \n",
            "=================================================================\n",
            "conv2d (Conv2D)              (None, 24, 24, 32)        832       \n",
            "_________________________________________________________________\n",
            "conv2d_1 (Conv2D)            (None, 21, 21, 64)        32832     \n",
            "_________________________________________________________________\n",
            "max_pooling2d (MaxPooling2D) (None, 10, 10, 64)        0         \n",
            "_________________________________________________________________\n",
            "dropout (Dropout)            (None, 10, 10, 64)        0         \n",
            "_________________________________________________________________\n",
            "flatten (Flatten)            (None, 6400)              0         \n",
            "_________________________________________________________________\n",
            "dense (Dense)                (None, 352)               2253152   \n",
            "_________________________________________________________________\n",
            "dropout_1 (Dropout)          (None, 352)               0         \n",
            "_________________________________________________________________\n",
            "dense_1 (Dense)              (None, 10)                3530      \n",
            "=================================================================\n",
            "Total params: 2,290,346\n",
            "Trainable params: 2,290,346\n",
            "Non-trainable params: 0\n",
            "_________________________________________________________________\n"
          ],
          "name": "stdout"
        }
      ]
    },
    {
      "cell_type": "code",
      "metadata": {
        "id": "FV7qx_KD55dA"
      },
      "source": [
        ""
      ],
      "execution_count": null,
      "outputs": []
    }
  ]
}